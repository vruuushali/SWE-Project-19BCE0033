{
 "cells": [
  {
   "cell_type": "code",
   "execution_count": 1,
   "metadata": {},
   "outputs": [],
   "source": [
    "import pandas as pd\n",
    "import glob\n",
    "from sklearn import preprocessing\n",
    "\n",
    "path = '/home/ishan/Downloads/PROMISE_dataset'\n",
    "\n",
    "cnt = 5000\n",
    "\n",
    "all_files = glob.glob(path + \"/*.csv\")\n",
    "\n",
    "l = []\n",
    "\n",
    "for filename in all_files:\n",
    "    df = pd.read_csv(filename, index_col=None, header=0)\n",
    "    l.append(df)\n",
    "    \n",
    "frame = pd.concat(l, axis=0, ignore_index=True)\n",
    "target = frame['bug']\n",
    "frame = frame.drop(['bug'], axis = 1) \n",
    "\n",
    "x = frame.values\n",
    "min_max_scaler = preprocessing.MinMaxScaler()\n",
    "x_scaled = min_max_scaler.fit_transform(x)\n",
    "\n",
    "train = pd.DataFrame(x_scaled)"
   ]
  },
  {
   "cell_type": "code",
   "execution_count": 2,
   "metadata": {},
   "outputs": [],
   "source": [
    "from imblearn.over_sampling import RandomOverSampler\n",
    "ros = RandomOverSampler(random_state=0)\n",
    "X_resampled, y_resampled = ros.fit_resample(train, target)"
   ]
  },
  {
   "cell_type": "code",
   "execution_count": 3,
   "metadata": {},
   "outputs": [],
   "source": [
    "X_resampled = X_resampled.iloc[:cnt]\n",
    "y_resampled = y_resampled.iloc[:cnt]"
   ]
  },
  {
   "cell_type": "code",
   "execution_count": 4,
   "metadata": {},
   "outputs": [],
   "source": [
    "import numpy as np\n",
    "imgs = []\n",
    "for j in range(0,cnt):\n",
    "    arr = []\n",
    "    for i in range(0,20):\n",
    "        arr.append(X_resampled[i][j])\n",
    "    p = 8*8-20\n",
    "    for i in range(0,p):\n",
    "        arr.append(0)\n",
    "    x = np.reshape(arr,(8,8))\n",
    "    imgs.append(x)\n",
    "\n",
    "y_new = []\n",
    "for i in y_resampled:\n",
    "    arr = [0]*8\n",
    "    if i<8:\n",
    "        arr[i]=1\n",
    "    else:\n",
    "        arr[0]=1\n",
    "    y_new.append(arr)"
   ]
  },
  {
   "cell_type": "code",
   "execution_count": 5,
   "metadata": {},
   "outputs": [
    {
     "name": "stderr",
     "output_type": "stream",
     "text": [
      "Using TensorFlow backend.\n"
     ]
    }
   ],
   "source": [
    "from keras.utils import to_categorical\n",
    "from keras.models import Sequential\n",
    "from keras.layers import Dense, Dropout, Flatten\n",
    "from keras.layers import Conv2D, MaxPooling2D\n",
    "from keras.callbacks import TensorBoard\n",
    "from sklearn.model_selection import train_test_split"
   ]
  },
  {
   "cell_type": "code",
   "execution_count": 6,
   "metadata": {},
   "outputs": [],
   "source": [
    "X_train,x_test,Y_train,y_test = train_test_split(imgs , y_new , test_size = 0.1, random_state = 10)"
   ]
  },
  {
   "cell_type": "code",
   "execution_count": 7,
   "metadata": {},
   "outputs": [],
   "source": [
    "X_train = np.expand_dims(X_train,axis=3)\n",
    "x_test = np.expand_dims(x_test,axis=3)"
   ]
  },
  {
   "cell_type": "code",
   "execution_count": 8,
   "metadata": {},
   "outputs": [],
   "source": [
    "import keras\n",
    "model = Sequential()\n",
    "model.add(Conv2D(64, (1, 1), padding='same',input_shape=(8, 8, 1),activation='relu')) # Layer 1\n",
    "\n",
    "def fire_module(squeeze,expand):\n",
    "    model.add(Conv2D(squeeze, (1, 1), padding='same',activation='relu'))\n",
    "    model.add(Conv2D(expand, (1, 1), padding='same',activation='relu'))\n",
    "    model.add(Conv2D(expand, (3, 3), padding='same',activation='relu'))\n",
    "    \n",
    "fire_module(squeeze=16, expand=64)  # Layer 2\n",
    "fire_module(squeeze=16, expand=64)  # Layer 3\n",
    "fire_module(squeeze=32, expand=128) # Layer 4\n",
    "model.add(MaxPooling2D(pool_size=(2, 2),strides=(2, 2)))\n",
    "\n",
    "fire_module(squeeze=32, expand=128) # Layer 5\n",
    "fire_module(squeeze=48, expand=192) # Layer 6\n",
    "fire_module(squeeze=48, expand=192) # Layer 7\n",
    "fire_module(squeeze=64, expand=256) # Layer 8\n",
    "model.add(MaxPooling2D(pool_size=(2, 2),strides=(2, 2)))\n",
    "\n",
    "fire_module(squeeze=64, expand=256) # Layer 9\n",
    "model.add(Conv2D(64, (1, 1),padding='same',activation='relu')) # Layer 10\n",
    "\n",
    "model.add(Flatten())\n",
    "\n",
    "model.add(Dense(8, activation='softmax')) # Layer 11\n",
    "\n",
    "learning_rate = 0.0005\n",
    "\n",
    "opt = keras.optimizers.adam(lr=learning_rate, decay=1e-6)"
   ]
  },
  {
   "cell_type": "code",
   "execution_count": 9,
   "metadata": {},
   "outputs": [],
   "source": [
    "model.compile(loss='categorical_crossentropy',optimizer='adam',metrics=['accuracy'])"
   ]
  },
  {
   "cell_type": "code",
   "execution_count": 10,
   "metadata": {},
   "outputs": [
    {
     "name": "stdout",
     "output_type": "stream",
     "text": [
      "Train on 4500 samples, validate on 500 samples\n",
      "Epoch 1/3\n",
      "4500/4500 [==============================] - 82s 18ms/step - loss: 0.5184 - accuracy: 0.8964 - val_loss: 0.4249 - val_accuracy: 0.9100\n",
      "Epoch 2/3\n",
      "4500/4500 [==============================] - 72s 16ms/step - loss: 0.4387 - accuracy: 0.9036 - val_loss: 0.4141 - val_accuracy: 0.9100\n",
      "Epoch 3/3\n",
      "4500/4500 [==============================] - 72s 16ms/step - loss: 0.4270 - accuracy: 0.9036 - val_loss: 0.4077 - val_accuracy: 0.9100\n"
     ]
    },
    {
     "data": {
      "text/plain": [
       "<keras.callbacks.callbacks.History at 0x7fee54b35210>"
      ]
     },
     "execution_count": 10,
     "metadata": {},
     "output_type": "execute_result"
    }
   ],
   "source": [
    "model.fit(np.array(X_train),np.array(Y_train),batch_size=32,epochs=3,validation_data=(np.array(x_test),np.array(y_test)))"
   ]
  },
  {
   "cell_type": "code",
   "execution_count": 11,
   "metadata": {},
   "outputs": [],
   "source": [
    "import sklearn\n",
    "from sklearn import metrics\n",
    "from sklearn.metrics import mean_squared_error\n",
    "from sklearn.metrics import mean_absolute_error\n",
    "from sklearn.metrics import accuracy_score\n",
    "\n",
    "temp = model.predict(np.array(x_test))\n",
    "\n",
    "predicted_values = []\n",
    "actual_values = []\n",
    "\n",
    "for i in temp:\n",
    "    val = 0\n",
    "    for j in range(8):\n",
    "        if i[j]:\n",
    "            val = j\n",
    "            break\n",
    "    predicted_values.append(val)\n",
    "    \n",
    "for i in y_test:\n",
    "    val = 0\n",
    "    for j in range(8):\n",
    "        if i[j]:\n",
    "            val = j\n",
    "            break\n",
    "    actual_values.append(val)\n",
    "\n",
    "model_data = []\n",
    "accuracy_dict = {}\n",
    "accuracy_dict[\"accuracy\"] = sklearn.metrics.accuracy_score(predicted_values,actual_values)\n",
    "accuracy_dict[\"mean_squared_error\"] = sklearn.metrics.mean_squared_error(predicted_values,actual_values)\n",
    "accuracy_dict[\"mean_absolute_error\"] = sklearn.metrics.mean_absolute_error(predicted_values,actual_values)\n",
    "model_data.append(accuracy_dict)"
   ]
  },
  {
   "cell_type": "code",
   "execution_count": 12,
   "metadata": {
    "scrolled": false
   },
   "outputs": [
    {
     "data": {
      "text/plain": [
       "[{'accuracy': 0.91, 'mean_squared_error': 0.288, 'mean_absolute_error': 0.144}]"
      ]
     },
     "execution_count": 12,
     "metadata": {},
     "output_type": "execute_result"
    }
   ],
   "source": [
    "model_data"
   ]
  }
 ],
 "metadata": {
  "kernelspec": {
   "display_name": "Python 3",
   "language": "python",
   "name": "python3"
  },
  "language_info": {
   "codemirror_mode": {
    "name": "ipython",
    "version": 3
   },
   "file_extension": ".py",
   "mimetype": "text/x-python",
   "name": "python",
   "nbconvert_exporter": "python",
   "pygments_lexer": "ipython3",
   "version": "3.7.6"
  }
 },
 "nbformat": 4,
 "nbformat_minor": 4
}
